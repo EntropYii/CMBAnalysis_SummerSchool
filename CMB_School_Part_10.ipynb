{
 "cells": [
  {
   "cell_type": "markdown",
   "metadata": {},
   "source": [
    "<a href=\"https://colab.research.google.com/github/jeffmcm1977/CMBAnalysis_SummerSchool/blob/master/CMB_School_Part_10.ipynb\" target=\"_parent\"><img src=\"https://colab.research.google.com/assets/colab-badge.svg\" alt=\"Open In Colab\"/></a>"
   ]
  },
  {
   "cell_type": "markdown",
   "metadata": {},
   "source": [
    "# Lensing simulation tutorial"
   ]
  },
  {
   "cell_type": "markdown",
   "metadata": {},
   "source": [
    "Here we will simulate *CMB lensing*, the process by which the *paths of CMB photons are deflected by large-scale structure as they traverse the Universe.*\n",
    "\n",
    "\n",
    "The unlensed CMB temperature $\\tilde T(\\mathbf n)$ at angular position $\\mathbf n$ is a Gaussian field, which we have seen how to simulate.\n",
    "\n",
    "The action of lensing is that we see the CMB evaluated at a *deflected position* $$T^\\mathrm{len}(\\mathbf n) = \\tilde T(\\mathbf n + \\mathbf d(\\mathbf n)).$$\n",
    "\n",
    "The deflection is (to good approzimation) given as the *gradient of a scalar,* $$\\mathbf d(\\mathbf n)= \\nabla \\phi(\\mathbf n),$$ where $\\phi$ is known as the **CMB lensing potential**.  This two-dimensional field is the line-of-sight projection of the 3d gravitational potential from all the strctures in the Universe between us and the CMB.\n",
    "\n",
    "$\\phi$ is (to good approximation) a Gaussian field, and its power spectrum $C_\\ell^{\\phi\\phi}$ is computed by codes like CAMB.  Let's load up the CMB temperature and potential power spectra, and make a simulation of them both."
   ]
  },
  {
   "cell_type": "code",
   "execution_count": null,
   "metadata": {},
   "outputs": [],
   "source": [
    "!python -c \"import cmb_modules\" || ( \\\n",
    "    wget https://github.com/jeffmcm1977/CMBAnalysis_SummerSchool/raw/master/cmb_school.tar.gz && \\\n",
    "    tar xzvf cmb_school.tar.gz \\\n",
    ")"
   ]
  },
  {
   "cell_type": "code",
   "execution_count": null,
   "metadata": {},
   "outputs": [],
   "source": [
    "import numpy as np\n",
    "import matplotlib.pyplot as plt\n",
    "# We use some stuff we learned before\n",
    "import cmb_modules\n",
    "np.random.seed(100)"
   ]
  },
  {
   "cell_type": "markdown",
   "metadata": {},
   "source": [
    "### Simulating an unlensed map\n",
    "\n"
   ]
  },
  {
   "cell_type": "code",
   "execution_count": null,
   "metadata": {},
   "outputs": [],
   "source": [
    "\n",
    "patch_deg_width = 40. # patch width in degrees\n",
    "pix_size = 1.5 # pixel size in arcminutes\n",
    "\n",
    "# Number of pixels in each direction\n",
    "N = int(patch_deg_width*60./pix_size)\n",
    "\n",
    "# We need to load the theory spectra\n",
    "def get_theory():\n",
    "    ells,tt,_,_,pp,_ = np.loadtxt(\"CAMB_fiducial_cosmo_scalCls_for_lensing.dat\",unpack=True)\n",
    "    TCMB2 = 7.4311e12\n",
    "    ckk = pp/4./TCMB2\n",
    "    ucltt = tt / ells/(ells+1.)*2.*np.pi\n",
    "    ells2,lcltt = np.loadtxt(\"CMB_fiducial_totalCls.dat\",unpack=True,usecols=[0,1])\n",
    "    lcltt = lcltt / ells2/(ells2+1.)*2.*np.pi\n",
    "    lcltt = lcltt[:len(ells)]\n",
    "    return ells,ucltt,lcltt,ckk\n",
    "\n",
    "\n",
    "ells,ucltt,lcltt,clkk = get_theory()\n",
    "\n",
    "# We next generate an unlensed CMB map as a Gaussian random field as we learned before\n",
    "DlTT = ucltt*ells*(ells+1.)/2./np.pi\n",
    "unlensed = cmb_modules.make_CMB_T_map(N,pix_size,ells,DlTT)\n",
    "\n",
    "## variables to set up the map plots\n",
    "c_min = -400  # minimum for color bar\n",
    "c_max = 400   # maximum for color bar\n",
    "X_width = N*pix_size/60.  # horizontal map width in degrees\n",
    "Y_width = N*pix_size/60.  # vertical map width in degrees\n",
    "\n",
    "\n",
    "print('Unlensed CMB')\n",
    "cmb_modules.Plot_CMB_Map(unlensed,c_min,c_max,X_width,Y_width)\n"
   ]
  },
  {
   "cell_type": "markdown",
   "metadata": {},
   "source": [
    "Sometimes we work with the **CMB lensing convergence** $\\kappa(\\mathbf n)$, a projection of the matter density.  The potential and convergence are related by a Poisson equation, $$\\kappa(\\mathbf n) = -\\nabla^2 \\phi(\\mathbf n)/2,$$ or in Fourier space, $$\\kappa(\\mathbf l) = l^2 \\phi(\\mathbf l) / 2$$\n",
    "\n",
    "Let's make a simulation of $\\kappa(\\mathbf n)$ -- a projection of the (dark) matter between us and the CMB:"
   ]
  },
  {
   "cell_type": "code",
   "execution_count": null,
   "metadata": {
    "scrolled": true
   },
   "outputs": [],
   "source": [
    "# We also need a lensing convergence (kappa) map\n",
    "DlKK = clkk*ells*(ells+1.)/2./np.pi\n",
    "kappa = cmb_modules.make_CMB_T_map(N,pix_size,ells,DlKK)\n",
    "plt.imshow(kappa)\n",
    "plt.title('CMB lensing convergence $\\kappa$')\n",
    "plt.show()"
   ]
  },
  {
   "cell_type": "markdown",
   "metadata": {},
   "source": [
    "To simulate the **deflection** action of lensing, we will obtain our $\\phi$ map from this $\\kappa$ map; evaluate $\\nabla \\phi$; and determine the shifted positions for the CMB, $\\mathbf n + \\nabla \\phi(\\mathbf n).$  We will do the actual position interpolation using the `scipy.ndimage.map_coordinates`."
   ]
  },
  {
   "cell_type": "code",
   "execution_count": null,
   "metadata": {},
   "outputs": [],
   "source": [
    "def lens_map(imap,kappa,modlmap,ly,lx,N,pix_size):\n",
    "    # First we convert lensing convergence to lensing potential\n",
    "    phi = kappa_to_phi(kappa,modlmap,return_fphi=True)\n",
    "    # Then we take its gradient to get the deflection field\n",
    "    grad_phi = gradient(phi,ly,lx)\n",
    "    # Then we calculate the displaced positions by shifting the physical positions by the deflections\n",
    "    pos = posmap(N,pix_size) + grad_phi\n",
    "    # We convert the displaced positions into fractional displaced pixel numbers\n",
    "    # because scipy doesn't know about physical distances\n",
    "    pix = sky2pix(pos, N,pix_size)\n",
    "    # We prepare an empty output lensed map array\n",
    "    omap = np.empty(imap.shape, dtype= imap.dtype)\n",
    "    # We then tell scipy to calculate the values of the input lensed map\n",
    "    # at the displaced fractional positions by interpolation and grid that onto the final lensed map\n",
    "    from scipy.ndimage import map_coordinates\n",
    "    map_coordinates(imap, pix, omap, order=5, mode='wrap')\n",
    "    return omap\n",
    "\n",
    "# This function needs to know about the Fourier coordinates of the map\n",
    "def get_ells(N,pix_size):\n",
    "    # This function returns Fourier wavenumbers for a Cartesian square grid\n",
    "    N=int(N)\n",
    "    ones = np.ones(N)\n",
    "    inds  = (np.arange(N)+.5 - N/2.) /(N-1.)\n",
    "    ell_scale_factor = 2. * np.pi \n",
    "    lx = np.outer(ones,inds) / (pix_size/60. * np.pi/180.) * ell_scale_factor\n",
    "    ly = np.transpose(lx)\n",
    "    modlmap = np.sqrt(lx**2. + ly**2.)\n",
    "    return ly,lx,modlmap\n",
    "\n",
    "# We need to convert kappa to phi\n",
    "def kappa_to_phi(kappa,modlmap,return_fphi=False):\n",
    "    return filter_map(kappa,kmask(2./modlmap/(modlmap+1.),modlmap,ellmin=2))\n",
    "\n",
    "# where we used a Fourier space masking function which will come in handy\n",
    "def kmask(filter2d,modlmap,ellmin=None,ellmax=None):\n",
    "    # Apply a minimum and maximum multipole mask to a filter\n",
    "    if ellmin is not None: filter2d[modlmap<ellmin] = 0\n",
    "    if ellmax is not None: filter2d[modlmap>ellmax] = 0\n",
    "    return filter2d\n",
    "\n",
    "# To do that we also need to know generally how to filter a map\n",
    "def filter_map(Map,filter2d):\n",
    "    FMap = np.fft.fftshift(np.fft.fft2(Map))\n",
    "    FMap_filtered = FMap * filter2d\n",
    "    Map_filtered = np.real(np.fft.ifft2(np.fft.ifftshift(FMap_filtered)))\n",
    "    return Map_filtered\n",
    "\n",
    "\n",
    "# We also need to calculate a gradient\n",
    "# We do this in Fourier space\n",
    "def gradient(imap,ly,lx):\n",
    "    # Filter the map by (i ly, i lx) to get gradient\n",
    "    return np.stack([filter_map(imap,ly*1j),filter_map(imap,lx*1j)])\n",
    "\n",
    "# We also needed the map of physical positions\n",
    "def posmap(N,pix_size):\n",
    "    pix    = np.mgrid[:N,:N]\n",
    "    return pix2sky(pix,N,pix_size)\n",
    "\n",
    "# For that we need to be able to convert pixel indices to sky positions\n",
    "def pix2sky(pix,N,pix_size):\n",
    "    py,px = pix\n",
    "    dec = np.deg2rad((py - N//2 - 0.5)*pix_size/60.)\n",
    "    ra = np.deg2rad((px - N//2 - 0.5)*pix_size/60.)\n",
    "    return np.stack([dec,ra])\n",
    "\n",
    "# Finally, for the lensing operation, we also needed to convert physical sky positions to pixel indices\n",
    "# which is just the inverse of the above\n",
    "def sky2pix(pos,N,pix_size):\n",
    "    dec,ra = np.rad2deg(pos)*60.\n",
    "    py = dec/pix_size + N//2 + 0.5\n",
    "    px = ra/pix_size + N//2 + 0.5\n",
    "    return np.stack([py,px])\n",
    "\n",
    "# We get the Fourier coordinates\n",
    "ly,lx,modlmap = get_ells(N,pix_size)\n",
    "\n",
    "# Now we can lens our input unlensed map\n",
    "lensed = lens_map(unlensed,kappa,modlmap,ly,lx,N,pix_size)\n",
    "\n",
    "\n",
    "print('Lensed CMB')\n",
    "cmb_modules.Plot_CMB_Map(lensed,c_min,c_max,X_width,Y_width)\n"
   ]
  },
  {
   "cell_type": "code",
   "execution_count": null,
   "metadata": {},
   "outputs": [],
   "source": [
    "print('Lensed minus unlensed CMB')\n",
    "cmb_modules.Plot_CMB_Map(lensed - unlensed,c_min/5,c_max/5,X_width,Y_width) #increase image contrast by a factor of 5\n",
    "\n"
   ]
  },
  {
   "cell_type": "code",
   "execution_count": null,
   "metadata": {},
   "outputs": [],
   "source": [
    "#Convolving with a beam and adding noise\n",
    "\n",
    "# Beam\n",
    "beam_arcmin = 1.4\n",
    "def gauss_beam(ell,fwhm):\n",
    "    # A gaussian beam transfer function (map-space, i.e. one power)\n",
    "    tht_fwhm = np.deg2rad(fwhm / 60.)\n",
    "    return np.exp(-(tht_fwhm**2.)*(ell**2.) / (16.*np.log(2.)))\n",
    "# Evaluate the beam on an isotropic Fourier grid\n",
    "kbeam2d = gauss_beam(modlmap,beam_arcmin)\n",
    "# Filter the map to convolve it with a beam\n",
    "beamed = filter_map(lensed,kbeam2d)\n",
    "\n",
    "# Noise\n",
    "noise_uk_arcmin = 1.5 # CMB-S4 level white noise\n",
    "# White noise\n",
    "Clnoise = (noise_uk_arcmin*np.pi/180./60.)**2.\n",
    "Dlnoise = Clnoise*ells*(ells+1.)/2./np.pi\n",
    "# Make a GRF noise map\n",
    "noise_map = cmb_modules.make_CMB_T_map(N,pix_size,ells,Dlnoise)\n",
    "\n",
    "# The observed map\n",
    "observed = beamed + noise_map\n",
    "\n",
    "print('Observed CMB')\n",
    "cmb_modules.Plot_CMB_Map(observed,c_min,c_max,X_width,Y_width)\n",
    "\n",
    "\n"
   ]
  },
  {
   "cell_type": "markdown",
   "metadata": {},
   "source": [
    "<font color='red'>EXERCISE: </font> Compare the power spectrum of the lensed CMB map (no beam, no noise) with the unlensed CMB map (no beam, no noise). Can you clearly see what features lensing induces? If it's too noisy, you could try Monte Carloing multiple realizations and averaging over them?"
   ]
  },
  {
   "cell_type": "code",
   "execution_count": null,
   "metadata": {},
   "outputs": [],
   "source": []
  }
 ],
 "metadata": {
  "kernelspec": {
   "display_name": "Python 3 (ipykernel)",
   "language": "python",
   "name": "python3"
  },
  "language_info": {
   "codemirror_mode": {
    "name": "ipython",
    "version": 3
   },
   "file_extension": ".py",
   "mimetype": "text/x-python",
   "name": "python",
   "nbconvert_exporter": "python",
   "pygments_lexer": "ipython3",
   "version": "3.11.7"
  }
 },
 "nbformat": 4,
 "nbformat_minor": 4
}
